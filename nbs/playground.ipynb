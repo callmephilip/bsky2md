{
 "cells": [
  {
   "cell_type": "markdown",
   "metadata": {},
   "source": [
    "# Hono?"
   ]
  },
  {
   "cell_type": "code",
   "execution_count": 1,
   "metadata": {},
   "outputs": [
    {
     "name": "stderr",
     "output_type": "stream",
     "text": [
      "Listening on http://0.0.0.0:8000/\n"
     ]
    },
    {
     "data": {
      "text/plain": [
       "{\n",
       "  addr: [Object: null prototype] {\n",
       "    hostname: \u001b[32m\"0.0.0.0\"\u001b[39m,\n",
       "    port: \u001b[33m8000\u001b[39m,\n",
       "    transport: \u001b[32m\"tcp\"\u001b[39m\n",
       "  },\n",
       "  finished: Promise { \u001b[36m<pending>\u001b[39m },\n",
       "  shutdown: \u001b[36m[AsyncFunction: shutdown]\u001b[39m,\n",
       "  ref: \u001b[36m[Function: ref]\u001b[39m,\n",
       "  unref: \u001b[36m[Function: unref]\u001b[39m,\n",
       "  [\u001b[32mSymbol(Symbol.asyncDispose)\u001b[39m]: \u001b[36m[Function: [Symbol.asyncDispose]]\u001b[39m\n",
       "}"
      ]
     },
     "execution_count": 1,
     "metadata": {},
     "output_type": "execute_result"
    }
   ],
   "source": [
    "//| export\n",
    "\n",
    "import { Hono } from \"hono\";\n",
    "\n",
    "const app = new Hono();\n",
    "\n",
    "app.get(\"/\", (c) => {\n",
    "  return c.html(`\n",
    "    <html>\n",
    "      <head>\n",
    "        <title>Hello Hono</title>\n",
    "        <style>\n",
    "          body {\n",
    "            font-family: Arial, sans-serif;\n",
    "            padding: 20px;\n",
    "            background-color: #ffffff;\n",
    "          }\n",
    "        </style>\n",
    "      </head>\n",
    "      <body><strong>Hello Hono!</strong></body>\n",
    "    </html>  \n",
    "  `);\n",
    "});\n",
    "\n",
    "Deno.serve(app.fetch);\n"
   ]
  },
  {
   "cell_type": "code",
   "execution_count": 5,
   "metadata": {},
   "outputs": [
    {
     "data": {
      "text/html": [
       "\n",
       "  <div style=\"padding: 20px; text-align: center;\">\n",
       "    <iframe width=\"800px\" height=\"600px\" src=\"http://localhost:8000\"></iframe>\n",
       "  </div>\n"
      ]
     },
     "execution_count": 5,
     "metadata": {},
     "output_type": "execute_result"
    }
   ],
   "source": [
    "import { html } from \"https://deno.land/x/display/mod.ts\";\n",
    "// render iframe loading localhost:8000\n",
    "html`\n",
    "  <div style=\"padding: 20px; text-align: center;\">\n",
    "    <iframe width=\"800px\" height=\"600px\" src=\"http://localhost:8000\"></iframe>\n",
    "  </div>\n",
    "`;\n"
   ]
  },
  {
   "cell_type": "code",
   "execution_count": null,
   "metadata": {},
   "outputs": [],
   "source": []
  }
 ],
 "metadata": {
  "kernelspec": {
   "display_name": "Deno",
   "language": "typescript",
   "name": "deno"
  },
  "language_info": {
   "codemirror_mode": "typescript",
   "file_extension": ".ts",
   "mimetype": "text/x.typescript",
   "name": "typescript",
   "nbconvert_exporter": "script",
   "pygments_lexer": "typescript",
   "version": "5.6.2"
  }
 },
 "nbformat": 4,
 "nbformat_minor": 2
}
