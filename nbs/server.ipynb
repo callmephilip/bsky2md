{
 "cells": [
  {
   "cell_type": "markdown",
   "metadata": {},
   "source": [
    "# Setup server"
   ]
  },
  {
   "cell_type": "code",
   "execution_count": 3,
   "metadata": {},
   "outputs": [
    {
     "data": {
      "text/plain": [
       "Hono {\n",
       "  get: \u001b[36m[Function (anonymous)]\u001b[39m,\n",
       "  post: \u001b[36m[Function (anonymous)]\u001b[39m,\n",
       "  put: \u001b[36m[Function (anonymous)]\u001b[39m,\n",
       "  delete: \u001b[36m[Function (anonymous)]\u001b[39m,\n",
       "  options: \u001b[36m[Function (anonymous)]\u001b[39m,\n",
       "  patch: \u001b[36m[Function (anonymous)]\u001b[39m,\n",
       "  all: \u001b[36m[Function (anonymous)]\u001b[39m,\n",
       "  on: \u001b[36m[Function (anonymous)]\u001b[39m,\n",
       "  use: \u001b[36m[Function (anonymous)]\u001b[39m,\n",
       "  router: SmartRouter { name: \u001b[32m\"SmartRouter\"\u001b[39m },\n",
       "  getPath: \u001b[36m[Function: getPath]\u001b[39m,\n",
       "  _basePath: \u001b[32m\"/\"\u001b[39m,\n",
       "  routes: [\n",
       "    { path: \u001b[32m\"/\"\u001b[39m, method: \u001b[32m\"GET\"\u001b[39m, handler: \u001b[36m[AsyncFunction (anonymous)]\u001b[39m }\n",
       "  ],\n",
       "  errorHandler: \u001b[36m[Function: errorHandler]\u001b[39m,\n",
       "  onError: \u001b[36m[Function: onError]\u001b[39m,\n",
       "  notFound: \u001b[36m[Function: notFound]\u001b[39m,\n",
       "  fetch: \u001b[36m[Function: fetch]\u001b[39m,\n",
       "  request: \u001b[36m[Function: request]\u001b[39m,\n",
       "  fire: \u001b[36m[Function: fire]\u001b[39m\n",
       "}"
      ]
     },
     "execution_count": 3,
     "metadata": {},
     "output_type": "execute_result"
    }
   ],
   "source": [
    "//| export\n",
    "\n",
    "import { Hono } from \"hono\";\n",
    "import { downloadPostToMd } from \"bsky2md/bsky.ts\";\n",
    "\n",
    "const app = new Hono();\n",
    "\n",
    "app.get(\"/\", async (c) => {\n",
    "  return c.html(`\n",
    "    <html>\n",
    "      <head>\n",
    "        <title>Hello Hono</title>\n",
    "        <style>body {font-family: Arial, sans-serif; padding: 20px; background-color: #ffffff; }</style>\n",
    "      </head>\n",
    "      <body><strong>\n",
    "      ${await downloadPostToMd(c.req.query().url)}\n",
    "      </strong></body>\n",
    "    </html>  \n",
    "  `);\n",
    "});"
   ]
  },
  {
   "cell_type": "code",
   "execution_count": 4,
   "metadata": {},
   "outputs": [
    {
     "data": {
      "text/plain": [
       "[Module: null prototype] {  }"
      ]
     },
     "execution_count": 4,
     "metadata": {},
     "output_type": "execute_result"
    }
   ],
   "source": [
    "import \"jsr:@std/dotenv/load\";\n"
   ]
  },
  {
   "cell_type": "code",
   "execution_count": 5,
   "metadata": {},
   "outputs": [
    {
     "name": "stderr",
     "output_type": "stream",
     "text": [
      "Listening on http://0.0.0.0:8000/\n"
     ]
    },
    {
     "data": {
      "text/plain": [
       "{\n",
       "  addr: [Object: null prototype] {\n",
       "    hostname: \u001b[32m\"0.0.0.0\"\u001b[39m,\n",
       "    port: \u001b[33m8000\u001b[39m,\n",
       "    transport: \u001b[32m\"tcp\"\u001b[39m\n",
       "  },\n",
       "  finished: Promise { \u001b[36m<pending>\u001b[39m },\n",
       "  shutdown: \u001b[36m[AsyncFunction: shutdown]\u001b[39m,\n",
       "  ref: \u001b[36m[Function: ref]\u001b[39m,\n",
       "  unref: \u001b[36m[Function: unref]\u001b[39m,\n",
       "  [\u001b[32mSymbol(Symbol.asyncDispose)\u001b[39m]: \u001b[36m[Function: [Symbol.asyncDispose]]\u001b[39m\n",
       "}"
      ]
     },
     "execution_count": 5,
     "metadata": {},
     "output_type": "execute_result"
    }
   ],
   "source": [
    "//| export\n",
    "Deno.serve(app.fetch);"
   ]
  },
  {
   "cell_type": "code",
   "execution_count": 6,
   "metadata": {},
   "outputs": [
    {
     "data": {
      "text/html": [
       "\n",
       "  <div style=\"padding: 20px; text-align: center;\">\n",
       "    <iframe width=\"800px\" height=\"600px\" src=\"http://localhost:8000?url=https%3A%2F%2Fbsky.app%2Fprofile%2Fcallmephilip.com%2Fpost%2F3ld26pvzddk2l\"></iframe>\n",
       "  </div>\n"
      ]
     },
     "execution_count": 6,
     "metadata": {},
     "output_type": "execute_result"
    }
   ],
   "source": [
    "import { html } from \"https://deno.land/x/display/mod.ts\";\n",
    "// render iframe loading localhost:8000\n",
    "const url = encodeURIComponent(\n",
    "  \"https://bsky.app/profile/callmephilip.com/post/3ld26pvzddk2l\",\n",
    ");\n",
    "html`\n",
    "  <div style=\"padding: 20px; text-align: center;\">\n",
    "    <iframe width=\"800px\" height=\"600px\" src=\"http://localhost:8000?url=${url}\"></iframe>\n",
    "  </div>\n",
    "`;"
   ]
  },
  {
   "cell_type": "code",
   "execution_count": null,
   "metadata": {},
   "outputs": [],
   "source": []
  }
 ],
 "metadata": {
  "kernelspec": {
   "display_name": "Deno",
   "language": "typescript",
   "name": "deno"
  },
  "language_info": {
   "codemirror_mode": "typescript",
   "file_extension": ".ts",
   "mimetype": "text/x.typescript",
   "name": "typescript",
   "nbconvert_exporter": "script",
   "pygments_lexer": "typescript",
   "version": "5.6.2"
  }
 },
 "nbformat": 4,
 "nbformat_minor": 2
}
