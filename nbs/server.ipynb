{
 "cells": [
  {
   "cell_type": "markdown",
   "metadata": {},
   "source": [
    "# Setup server"
   ]
  },
  {
   "cell_type": "code",
   "execution_count": null,
   "metadata": {},
   "outputs": [
    {
     "data": {
      "text/plain": [
       "Hono {\n",
       "  get: \u001b[36m[Function (anonymous)]\u001b[39m,\n",
       "  post: \u001b[36m[Function (anonymous)]\u001b[39m,\n",
       "  put: \u001b[36m[Function (anonymous)]\u001b[39m,\n",
       "  delete: \u001b[36m[Function (anonymous)]\u001b[39m,\n",
       "  options: \u001b[36m[Function (anonymous)]\u001b[39m,\n",
       "  patch: \u001b[36m[Function (anonymous)]\u001b[39m,\n",
       "  all: \u001b[36m[Function (anonymous)]\u001b[39m,\n",
       "  on: \u001b[36m[Function (anonymous)]\u001b[39m,\n",
       "  use: \u001b[36m[Function (anonymous)]\u001b[39m,\n",
       "  router: SmartRouter { name: \u001b[32m\"SmartRouter\"\u001b[39m },\n",
       "  getPath: \u001b[36m[Function: getPath]\u001b[39m,\n",
       "  _basePath: \u001b[32m\"/\"\u001b[39m,\n",
       "  routes: [\n",
       "    { path: \u001b[32m\"/\"\u001b[39m, method: \u001b[32m\"GET\"\u001b[39m, handler: \u001b[36m[Function (anonymous)]\u001b[39m },\n",
       "    {\n",
       "      path: \u001b[32m\"/convert\"\u001b[39m,\n",
       "      method: \u001b[32m\"POST\"\u001b[39m,\n",
       "      handler: \u001b[36m[AsyncFunction (anonymous)]\u001b[39m\n",
       "    }\n",
       "  ],\n",
       "  errorHandler: \u001b[36m[Function: errorHandler]\u001b[39m,\n",
       "  onError: \u001b[36m[Function: onError]\u001b[39m,\n",
       "  notFound: \u001b[36m[Function: notFound]\u001b[39m,\n",
       "  fetch: \u001b[36m[Function: fetch]\u001b[39m,\n",
       "  request: \u001b[36m[Function: request]\u001b[39m,\n",
       "  fire: \u001b[36m[Function: fire]\u001b[39m\n",
       "}"
      ]
     },
     "execution_count": null,
     "metadata": {},
     "output_type": "execute_result"
    }
   ],
   "source": [
    "//| export\n",
    "\n",
    "import { Hono } from \"hono\";\n",
    "import { downloadPostToMd } from \"bsky2md/bsky.ts\";\n",
    "\n",
    "export const app = new Hono();\n",
    "\n",
    "const Layout = ({ children }: { children: string }) => `\n",
    "  <html>\n",
    "  <head>\n",
    "    <meta charset=\"UTF-8\">\n",
    "    <title>bsky2md</title>\n",
    "    <link rel=\"stylesheet\" href=\"https://unpkg.com/blocks.css/dist/blocks.min.css\" />\n",
    "    <script src=\"https://unpkg.com/htmx.org@2.0.4\"></script>\n",
    "    <style>\n",
    "      body { padding: 20px; background-color: #ffffff; }\n",
    "    </style>\n",
    "  </head>\n",
    "  <body>\n",
    "    ${children}\n",
    "  </body>\n",
    "  </html>\n",
    "`;\n",
    "\n",
    "app.get(\"/\", (c) => {\n",
    "  return c.html(\n",
    "    Layout({\n",
    "      children: `\n",
    "      <h1>bsky2md</h1>\n",
    "      <input hx-post=\"/convert\" name=\"url\" hx-target=\"#result\" type=\"text\" class=\"block\" placeholder=\"Enter URL\" />\n",
    "      <div id=\"result\"></div>\n",
    "    `,\n",
    "    }),\n",
    "  );\n",
    "});\n",
    "\n",
    "app.post(\"/convert\", async (c) => {\n",
    "  // get the URL from the form\n",
    "  // const url = c.req.body.url;\n",
    "  const d = (await c.req.formData()).get(\"url\");\n",
    "\n",
    "  if (!d) {\n",
    "    return c.html(\"<h1>URL is required</h1>\");\n",
    "  }\n",
    "  const md = await downloadPostToMd(d.toString());\n",
    "  return c.html(`<code>${md.replace(/\\n/g, \"<br>\")}</code>`);\n",
    "});"
   ]
  },
  {
   "cell_type": "code",
   "execution_count": null,
   "metadata": {},
   "outputs": [
    {
     "data": {
      "text/plain": [
       "[Module: null prototype] {  }"
      ]
     },
     "execution_count": null,
     "metadata": {},
     "output_type": "execute_result"
    }
   ],
   "source": [
    "import \"jsr:@std/dotenv/load\";\n"
   ]
  },
  {
   "cell_type": "code",
   "execution_count": null,
   "metadata": {},
   "outputs": [],
   "source": [
    "// Deno.serve(app.fetch);"
   ]
  },
  {
   "cell_type": "code",
   "execution_count": null,
   "metadata": {},
   "outputs": [
    {
     "data": {
      "text/html": [
       "\n",
       "  <div style=\"padding: 20px; text-align: center;\">\n",
       "    <iframe width=\"800px\" height=\"600px\" src=\"http://localhost:8000?url=https%3A%2F%2Fbsky.app%2Fprofile%2Fcallmephilip.com%2Fpost%2F3ld26pvzddk2l\"></iframe>\n",
       "  </div>\n"
      ]
     },
     "execution_count": null,
     "metadata": {},
     "output_type": "execute_result"
    }
   ],
   "source": [
    "import { html } from \"https://deno.land/x/display/mod.ts\";\n",
    "// render iframe loading localhost:8000\n",
    "const url = encodeURIComponent(\n",
    "  \"https://bsky.app/profile/callmephilip.com/post/3ld26pvzddk2l\",\n",
    ");\n",
    "html`\n",
    "  <div style=\"padding: 20px; text-align: center;\">\n",
    "    <iframe width=\"800px\" height=\"600px\" src=\"http://localhost:8000?url=${url}\"></iframe>\n",
    "  </div>\n",
    "`;"
   ]
  }
 ],
 "metadata": {
  "kernelspec": {
   "display_name": "deno",
   "language": "typescript",
   "name": "deno"
  }
 },
 "nbformat": 4,
 "nbformat_minor": 2
}
