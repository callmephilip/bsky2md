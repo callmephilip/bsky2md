{
 "cells": [
  {
   "cell_type": "markdown",
   "metadata": {},
   "source": [
    "# Bsky integration"
   ]
  },
  {
   "cell_type": "code",
   "execution_count": null,
   "metadata": {},
   "outputs": [],
   "source": [
    "//| export\n",
    "\n",
    "import { BskyXRPC } from \"@mary/bluesky-client\";\n",
    "import type {\n",
    "  AppBskyFeedDefs,\n",
    "  AppBskyFeedPost,\n",
    "} from \"@mary/bluesky-client/lexicons\";\n",
    "\n",
    "type Thread = AppBskyFeedDefs.ThreadViewPost;\n",
    "type Post = AppBskyFeedDefs.PostView;\n",
    "type PostRecord = AppBskyFeedPost.Record;\n",
    "\n",
    "const rpc = new BskyXRPC({ service: \"https://public.api.bsky.app\" });"
   ]
  },
  {
   "cell_type": "markdown",
   "metadata": {},
   "source": [
    "# Post URL to @at protocol URI\n",
    "\n",
    "Figure out how to convert bsky.app URL to a URI we can use to fetch data. We\n",
    "need to go from this:\n",
    "\n",
    "```\n",
    "https://bsky.app/profile/callmephilip.com/post/3lcskn64bss2d\n",
    "```\n",
    "\n",
    "To smth like this\n",
    "\n",
    "```\n",
    "at://did:plc:ubdeopbbkbgedccgbum7dhsh/app.bsky.feed.post/3lcskn64bss2d\"\n",
    "```\n",
    "\n",
    "`did:plc:ubdeopbbkbgedccgbum7dhsh` is DID for callmephilip.com handle, which\n",
    "needs to be resolved first"
   ]
  },
  {
   "cell_type": "code",
   "execution_count": null,
   "metadata": {},
   "outputs": [],
   "source": [
    "//| export\n",
    "\n",
    "const postURLToAtpURI = async (\n",
    "  postUrl: string,\n",
    "): Promise<string> => {\n",
    "  const urlParts = new URL(postUrl);\n",
    "  const pathParts = urlParts.pathname.split(\"/\");\n",
    "  const h = await rpc.get(\"com.atproto.identity.resolveHandle\", {\n",
    "    params: {\n",
    "      handle: pathParts[2],\n",
    "    },\n",
    "  });\n",
    "\n",
    "  return `at://${h.data.did}/app.bsky.feed.post/${pathParts[4]}`;\n",
    "};"
   ]
  },
  {
   "cell_type": "code",
   "execution_count": null,
   "metadata": {},
   "outputs": [
    {
     "data": {
      "text/plain": [
       "\u001b[32m\"at://did:plc:ubdeopbbkbgedccgbum7dhsh/app.bsky.feed.post/3lcskn64bss2d\"\u001b[39m"
      ]
     },
     "execution_count": null,
     "metadata": {},
     "output_type": "execute_result"
    }
   ],
   "source": [
    "await postURLToAtpURI(\n",
    "  \"https://bsky.app/profile/callmephilip.com/post/3lcskn64bss2d\",\n",
    ");"
   ]
  },
  {
   "cell_type": "markdown",
   "metadata": {},
   "source": [
    "# Grabbing thread data\n",
    "\n",
    "Thread has a bunch of nested posts inside replies. Unwrap this into a list of\n",
    "posts"
   ]
  },
  {
   "cell_type": "code",
   "execution_count": null,
   "metadata": {},
   "outputs": [],
   "source": [
    "//| export\n",
    "\n",
    "const unwrapThreadPosts = (\n",
    "  thread: Thread,\n",
    "): Post[] => {\n",
    "  const posts: Post[] = [];\n",
    "\n",
    "  // Add root post\n",
    "  if (thread.post) {\n",
    "    posts.push(thread.post);\n",
    "  }\n",
    "\n",
    "  // Recursively handle replies\n",
    "  if (thread.replies) {\n",
    "    thread.replies.forEach((reply) => {\n",
    "      posts.push(...unwrapThreadPosts(reply as Thread));\n",
    "    });\n",
    "  }\n",
    "\n",
    "  // Handle nested reply if present\n",
    "  if (\"parent\" in thread && thread.parent) {\n",
    "    posts.push(\n",
    "      ...unwrapThreadPosts(thread.parent as Thread),\n",
    "    );\n",
    "  }\n",
    "\n",
    "  return posts;\n",
    "};\n",
    "\n",
    "export const downloadThread = async (\n",
    "  postUrl: string,\n",
    ") => {\n",
    "  const d = await rpc.get(\"app.bsky.feed.getPostThread\", {\n",
    "    params: {\n",
    "      uri: await postURLToAtpURI(postUrl),\n",
    "    },\n",
    "  });\n",
    "  return unwrapThreadPosts(d.data.thread as Thread);\n",
    "};"
   ]
  },
  {
   "cell_type": "code",
   "execution_count": null,
   "metadata": {},
   "outputs": [],
   "source": [
    "const posts = await downloadThread(\n",
    "  \"https://bsky.app/profile/callmephilip.com/post/3lcskn64bss2d\",\n",
    ");"
   ]
  },
  {
   "cell_type": "markdown",
   "metadata": {},
   "source": [
    "# Converting posts to MD\n",
    "\n",
    "The most basic setup is when there is just a piece of text display. More complex\n",
    "cases will have links, attachments"
   ]
  },
  {
   "cell_type": "code",
   "execution_count": null,
   "metadata": {},
   "outputs": [],
   "source": [
    "//| export\n",
    "\n",
    "export const postToMd = (post: Post): string => {\n",
    "  const record = post.record as PostRecord;\n",
    "  const text = record.text;\n",
    "  return `\n",
    "    # ${post.author.displayName} (@${post.author.handle}) - ${record.createdAt}\n",
    "\n",
    "    ${text}\n",
    "  `;\n",
    "};"
   ]
  },
  {
   "cell_type": "code",
   "execution_count": null,
   "metadata": {},
   "outputs": [
    {
     "data": {
      "text/markdown": [
       "\n",
       "    # Philip Nuzhnyi (@callmephilip.com) - 2024-12-08T15:46:20.768Z\n",
       "\n",
       "    🧵 Notes on Deno + Jupyter 🦕 🔭\n",
       "  "
      ]
     },
     "metadata": {},
     "output_type": "display_data"
    }
   ],
   "source": [
    "await Deno.jupyter.display(\n",
    "  {\n",
    "    \"text/markdown\": postToMd(posts[0]),\n",
    "  },\n",
    "  { raw: true },\n",
    ");"
   ]
  },
  {
   "cell_type": "code",
   "execution_count": null,
   "metadata": {},
   "outputs": [
    {
     "data": {
      "text/markdown": [
       "\n",
       "    # Philip Nuzhnyi (@callmephilip.com) - 2024-12-08T15:46:20.768Z\n",
       "\n",
       "    🧵 Notes on Deno + Jupyter 🦕 🔭\n",
       "  \n",
       "    # Philip Nuzhnyi (@callmephilip.com) - 2024-12-16T20:24:54.774Z\n",
       "\n",
       "    useful reference - PR with Jupyter support for Deno github.com/denoland/den...\n",
       "  \n",
       "    # Philip Nuzhnyi (@callmephilip.com) - 2024-12-16T18:07:28.812Z\n",
       "\n",
       "    As far as tests are concerned, ended up dumping them into a separate ts module and then using native `deno test`\n",
       "  \n",
       "    # Philip Nuzhnyi (@callmephilip.com) - 2024-12-16T18:06:10.698Z\n",
       "\n",
       "    notebook cmd line issue is described here: github.com/jupyter/nbcl.... Includes a PR with a suggested fix. In the meantime, using some homemade stuff based on the nbclient fork - github.com/callmephilip...\n",
       "  \n",
       "    # Philip Nuzhnyi (@callmephilip.com) - 2024-12-16T18:03:11.209Z\n",
       "\n",
       "    Hit 2 issues with Deno + Jupyter: running notebooks from cmd and tracking failing tests.\n",
       "  \n",
       "    # Philip Nuzhnyi (@callmephilip.com) - 2024-12-08T15:49:32.248Z\n",
       "\n",
       "    Jupyter kernel for Deno - Deno docs docs.deno.com/runtime/refe...\n",
       "  \n",
       "    # Philip Nuzhnyi (@callmephilip.com) - 2024-12-08T15:56:32.679Z\n",
       "\n",
       "    Repro of original Deno2 jupyter demo with broken mermaid integration - gist.github.com/aaronblondea...\n",
       "  \n",
       "    # Philip Nuzhnyi (@callmephilip.com) - 2024-12-08T16:00:14.858Z\n",
       "\n",
       "    Rich displays for jupyter js kernels - deno.land/x/display@v1...\n",
       "  \n",
       "    # Philip Nuzhnyi (@callmephilip.com) - 2024-12-08T16:26:17.631Z\n",
       "\n",
       "    @kylekelley.bsky.social has a bunch of Deno in notebook examples here - github.com/rgbkrk/denot...\n",
       "  \n",
       "    # Philip Nuzhnyi (@callmephilip.com) - 2024-12-08T16:44:33.927Z\n",
       "\n",
       "    nice video showing deno + jupyter (via noteable RIP) www.youtube.com/watch?v=b5OK...\n",
       "  \n",
       "    # Philip Nuzhnyi (@callmephilip.com) - 2024-12-08T16:53:55.726Z\n",
       "\n",
       "    anywidget for deno jupyter kernel - jsr.io/@anywidget/d...\n",
       "  "
      ]
     },
     "metadata": {},
     "output_type": "display_data"
    }
   ],
   "source": [
    "await Deno.jupyter.display(\n",
    "  {\n",
    "    \"text/markdown\": posts.reduce((acc, post) => {\n",
    "      return acc + postToMd(post);\n",
    "    }, \"\"),\n",
    "  },\n",
    "  { raw: true },\n",
    ");"
   ]
  },
  {
   "cell_type": "code",
   "execution_count": null,
   "metadata": {},
   "outputs": [],
   "source": [
    "//| export\n",
    "\n",
    "export const downloadPostToMd = async (postUrl: string): Promise<string> => {\n",
    "  const posts = await downloadThread(postUrl);\n",
    "\n",
    "  return posts.reduce((acc, post) => {\n",
    "    return acc + postToMd(post);\n",
    "  }, \"\");\n",
    "};"
   ]
  },
  {
   "cell_type": "code",
   "execution_count": null,
   "metadata": {},
   "outputs": [
    {
     "data": {
      "text/plain": [
       "\u001b[32m\"\\n\"\u001b[39m +\n",
       "  \u001b[32m\"    # Philip Nuzhnyi (@callmephilip.com) - 2024-12-08T15:46:20.768Z\\n\"\u001b[39m +\n",
       "  \u001b[32m\"\\n\"\u001b[39m +\n",
       "  \u001b[32m\"    🧵 Notes on Deno + Jupyter 🦕 🔭\\n\"\u001b[39m +\n",
       "  \u001b[32m\"  \\n\"\u001b[39m +\n",
       "  \u001b[32m\"    # Philip Nuzhnyi (@callmephilip.com) - 2024-12-16T20:24:54.774Z\\n\"\u001b[39m +\n",
       "  \u001b[32m\"\\n\"\u001b[39m +\n",
       "  \u001b[32m\"    useful reference - PR with Jupyter support for Deno github.com/denoland/den...\\n\"\u001b[39m +\n",
       "  \u001b[32m\"  \\n\"\u001b[39m +\n",
       "  \u001b[32m\"    # Philip Nuzhnyi (@callmephilip.com) - 2024-12-16T18:07:28.812Z\\n\"\u001b[39m +\n",
       "  \u001b[32m\"\\n\"\u001b[39m +\n",
       "  \u001b[32m\"    As far as tests are concerned, ended up dumping them into a separate ts module and then using native `deno test`\\n\"\u001b[39m +\n",
       "  \u001b[32m\"  \\n\"\u001b[39m +\n",
       "  \u001b[32m\"    # Philip Nuzhnyi (@callmephilip.com) - 2024-12-16T18:06:10.698Z\\n\"\u001b[39m +\n",
       "  \u001b[32m\"\\n\"\u001b[39m +\n",
       "  \u001b[32m\"    notebook cmd line issue is described here: github.com/jupyter/nbcl.... Includes a PR with a suggested fix. In the meantime, using some homemade stuff based on the nbclient fork - github.com/callmephilip...\\n\"\u001b[39m +\n",
       "  \u001b[32m\"  \\n\"\u001b[39m +\n",
       "  \u001b[32m\"    # Philip Nuzhnyi (@callmephilip.com) - 2024-12-16T18:03:11.209Z\\n\"\u001b[39m +\n",
       "  \u001b[32m\"\\n\"\u001b[39m +\n",
       "  \u001b[32m\"    Hit 2 issues with Deno + Jupyter: running notebooks from cmd and tracking failing tests.\\n\"\u001b[39m +\n",
       "  \u001b[32m\"  \\n\"\u001b[39m +\n",
       "  \u001b[32m\"    # Philip Nuzhnyi (@callmephilip.com) - 2024-12-08T15:49:32.248Z\\n\"\u001b[39m +\n",
       "  \u001b[32m\"\\n\"\u001b[39m +\n",
       "  \u001b[32m\"    Jupyter kernel for Deno - Deno docs docs.deno.com/runtime/refe...\\n\"\u001b[39m +\n",
       "  \u001b[32m\"  \\n\"\u001b[39m +\n",
       "  \u001b[32m\"    # Philip Nuzhnyi (@callmephilip.com) - 2024-12-08T15:56:32.679Z\\n\"\u001b[39m +\n",
       "  \u001b[32m\"\\n\"\u001b[39m +\n",
       "  \u001b[32m\"    Repro of original Deno2 jupyter demo with broken mermaid integration - gist.github.com/aaronblondea...\\n\"\u001b[39m +\n",
       "  \u001b[32m\"  \\n\"\u001b[39m +\n",
       "  \u001b[32m\"    # Philip Nuzhnyi (@callmephilip.com) - 2024-12-08T16:00:14.858Z\\n\"\u001b[39m +\n",
       "  \u001b[32m\"\\n\"\u001b[39m +\n",
       "  \u001b[32m\"    Rich displays for jupyter js kernels - deno.land/x/display@v1...\\n\"\u001b[39m +\n",
       "  \u001b[32m\"  \\n\"\u001b[39m +\n",
       "  \u001b[32m\"    # Philip Nuzhnyi (@callmephilip.com) - 2024-12-08T16:26:17.631Z\\n\"\u001b[39m +\n",
       "  \u001b[32m\"\\n\"\u001b[39m +\n",
       "  \u001b[32m\"    @kylekelley.bsky.social has a bunch of Deno in notebook examples here - github.com/rgbkrk/denot...\\n\"\u001b[39m +\n",
       "  \u001b[32m\"  \\n\"\u001b[39m +\n",
       "  \u001b[32m\"    # Philip Nuzhnyi (@callmephilip.com) - 2024-12-08T16:44:33.927Z\\n\"\u001b[39m +\n",
       "  \u001b[32m\"\\n\"\u001b[39m +\n",
       "  \u001b[32m\"    nice video showing deno + jupyter (via noteable RIP) www.youtube.com/watch?v=b5OK...\\n\"\u001b[39m +\n",
       "  \u001b[32m\"  \\n\"\u001b[39m +\n",
       "  \u001b[32m\"    # Philip Nuzhnyi (@callmephilip.com) - 2024-12-08T16:53:55.726Z\\n\"\u001b[39m +\n",
       "  \u001b[32m\"\\n\"\u001b[39m +\n",
       "  \u001b[32m\"    anywidget for deno jupyter kernel - jsr.io/@anywidget/d...\\n\"\u001b[39m +\n",
       "  \u001b[32m\"  \"\u001b[39m"
      ]
     },
     "execution_count": null,
     "metadata": {},
     "output_type": "execute_result"
    }
   ],
   "source": [
    "await downloadPostToMd(\n",
    "  \"https://bsky.app/profile/callmephilip.com/post/3lcskn64bss2d\",\n",
    ");"
   ]
  }
 ],
 "metadata": {
  "kernelspec": {
   "display_name": "deno",
   "language": "typescript",
   "name": "deno"
  }
 },
 "nbformat": 4,
 "nbformat_minor": 2
}
